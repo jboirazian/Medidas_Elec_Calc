{
 "cells": [
  {
   "cell_type": "code",
   "execution_count": 1,
   "metadata": {},
   "outputs": [
    {
     "name": "stdout",
     "output_type": "stream",
     "text": [
      "Ingrese las mediciones con una coma separadas cada una\n",
      "\n",
      "5.653,5.661,5.655,5.654,5.652\n",
      "5.653\n",
      "5.661\n",
      "5.655\n",
      "5.654\n",
      "5.652\n"
     ]
    }
   ],
   "source": [
    "user_input = input(\"Ingrese las mediciones con una coma separadas cada una\\n\\n\").split(',')\n",
    "#strip is used to remove the white space. Not mandatory\n",
    "all_numbers = [float(x.strip()) for x in user_input]\n",
    "for i in all_numbers:\n",
    "    print(i)"
   ]
  },
  {
   "cell_type": "code",
   "execution_count": 2,
   "metadata": {},
   "outputs": [
    {
     "name": "stdout",
     "output_type": "stream",
     "text": [
      "5.655\n"
     ]
    }
   ],
   "source": [
    "import numpy as np\n",
    "\n",
    "prom_X=np.mean(all_numbers)#PROMEDIO\n",
    "print(prom_X)"
   ]
  },
  {
   "cell_type": "code",
   "execution_count": 3,
   "metadata": {},
   "outputs": [
    {
     "data": {
      "text/plain": [
       "9.999999999999218e-06"
      ]
     },
     "execution_count": 3,
     "metadata": {},
     "output_type": "execute_result"
    }
   ],
   "source": [
    "np.var(all_numbers) ### Varianza S^2"
   ]
  },
  {
   "cell_type": "code",
   "execution_count": 4,
   "metadata": {},
   "outputs": [
    {
     "name": "stdout",
     "output_type": "stream",
     "text": [
      "0.003162277660168256\n"
     ]
    }
   ],
   "source": [
    "u_a = np.std(all_numbers) ### Desvio standard S , Error tipo A\n",
    "print(u_a)"
   ]
  },
  {
   "cell_type": "code",
   "execution_count": 5,
   "metadata": {},
   "outputs": [
    {
     "name": "stdout",
     "output_type": "stream",
     "text": [
      "Ingrese el error del instrumento sin su simbolo % \n",
      "\n",
      "0.25\n"
     ]
    }
   ],
   "source": [
    "err_inst = input(\"Ingrese el error del instrumento sin su simbolo % \\n\\n\")"
   ]
  },
  {
   "cell_type": "code",
   "execution_count": 6,
   "metadata": {},
   "outputs": [
    {
     "name": "stdout",
     "output_type": "stream",
     "text": [
      "Ingrese el error del instrumento en sus digitos \n",
      "\n",
      "2\n"
     ]
    }
   ],
   "source": [
    "err_digitos = input(\"Ingrese el error del instrumento en sus digitos \\n\\n\")"
   ]
  },
  {
   "cell_type": "code",
   "execution_count": 7,
   "metadata": {},
   "outputs": [
    {
     "name": "stdout",
     "output_type": "stream",
     "text": [
      "Ingrese el numero de digitos del instrument\n",
      "\n",
      "4\n"
     ]
    }
   ],
   "source": [
    "N_digitos = input(\"Ingrese el numero de digitos del instrument\\n\\n\")"
   ]
  },
  {
   "cell_type": "code",
   "execution_count": 8,
   "metadata": {},
   "outputs": [
    {
     "name": "stdout",
     "output_type": "stream",
     "text": [
      "0.0161375\n"
     ]
    }
   ],
   "source": [
    "d_X_1=(float(err_inst)/100)\n",
    "d_X_2=(float (err_digitos))/(prom_X*pow(10,int(N_digitos)-1))\n",
    "d_X= (d_X_1 + d_X_2)*prom_X\n",
    "print(d_X) "
   ]
  },
  {
   "cell_type": "code",
   "execution_count": 11,
   "metadata": {},
   "outputs": [
    {
     "name": "stdout",
     "output_type": "stream",
     "text": [
      "0.009316989969047586\n"
     ]
    }
   ],
   "source": [
    "import math\n",
    "u_b = d_X/(math.sqrt(3))\n",
    "print(u_b) #### ERROR TIPO B"
   ]
  },
  {
   "cell_type": "code",
   "execution_count": 15,
   "metadata": {},
   "outputs": [
    {
     "name": "stdout",
     "output_type": "stream",
     "text": [
      "0.009839019365939502\n"
     ]
    }
   ],
   "source": [
    "u_c = math.sqrt(pow(u_b,2)+pow(u_a,2)) ### ERROR COMBINADO\n",
    "print(u_c)"
   ]
  },
  {
   "cell_type": "code",
   "execution_count": null,
   "metadata": {},
   "outputs": [],
   "source": []
  },
  {
   "cell_type": "code",
   "execution_count": null,
   "metadata": {},
   "outputs": [],
   "source": []
  }
 ],
 "metadata": {
  "kernelspec": {
   "display_name": "Python 3",
   "language": "python",
   "name": "python3"
  },
  "language_info": {
   "codemirror_mode": {
    "name": "ipython",
    "version": 3
   },
   "file_extension": ".py",
   "mimetype": "text/x-python",
   "name": "python",
   "nbconvert_exporter": "python",
   "pygments_lexer": "ipython3",
   "version": "3.7.6"
  }
 },
 "nbformat": 4,
 "nbformat_minor": 4
}
